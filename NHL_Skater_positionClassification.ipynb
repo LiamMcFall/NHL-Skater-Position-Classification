{
  "nbformat": 4,
  "nbformat_minor": 0,
  "metadata": {
    "colab": {
      "name": "NHL_Skater_positionClassification.ipynb",
      "provenance": [],
      "authorship_tag": "ABX9TyN9R9DqqfF7iC5Kn7J60N7h",
      "include_colab_link": true
    },
    "kernelspec": {
      "name": "python3",
      "display_name": "Python 3"
    }
  },
  "cells": [
    {
      "cell_type": "markdown",
      "metadata": {
        "id": "view-in-github",
        "colab_type": "text"
      },
      "source": [
        "<a href=\"https://colab.research.google.com/github/LiamMcFall/NHL-Skater-Position-Classification/blob/master/NHL_Skater_positionClassification.ipynb\" target=\"_parent\"><img src=\"https://colab.research.google.com/assets/colab-badge.svg\" alt=\"Open In Colab\"/></a>"
      ]
    },
    {
      "cell_type": "code",
      "metadata": {
        "id": "m5KlFgC-jN1t",
        "colab_type": "code",
        "colab": {}
      },
      "source": [
        "# Python ≥3.5 is required\n",
        "import sys\n",
        "assert sys.version_info >= (3, 5)\n",
        "\n",
        "# Scikit-Learn ≥0.20 is required\n",
        "import sklearn\n",
        "assert sklearn.__version__ >= \"0.20\"\n",
        "\n",
        "# Common imports\n",
        "import numpy as np\n",
        "import pandas as pd\n",
        "import os\n",
        "\n",
        "# to make this notebook's output stable across runs\n",
        "np.random.seed(42)\n",
        "\n",
        "# To plot pretty figures\n",
        "%matplotlib inline\n",
        "import matplotlib as mpl\n",
        "import matplotlib.pyplot as plt\n",
        "mpl.rc('axes', labelsize=14)\n",
        "mpl.rc('xtick', labelsize=12)\n",
        "mpl.rc('ytick', labelsize=12)"
      ],
      "execution_count": 0,
      "outputs": []
    },
    {
      "cell_type": "markdown",
      "metadata": {
        "id": "Ktr-6kJhjQge",
        "colab_type": "text"
      },
      "source": [
        "NHL Skater stats 1940-2018"
      ]
    },
    {
      "cell_type": "code",
      "metadata": {
        "id": "UsrPmAZxjTsY",
        "colab_type": "code",
        "colab": {
          "base_uri": "https://localhost:8080/",
          "height": 612
        },
        "outputId": "707d21c7-1049-4439-a3f1-ed30da324dd6"
      },
      "source": [
        "url = \"https://raw.githubusercontent.com/LiamMcFall/NHL-Skater-Position-Classification/master/skater_stats.csv\"\n",
        "\n",
        "skater_stats = pd.read_csv(url,encoding= 'unicode_escape', index_col= 0, na_values= \"-\", dtype={'TOI': str, 'ATOI' : str, \"Pos\" : str})\n",
        "\n",
        "skater_stats.head(10)\n",
        "\n",
        "skater_stats.info()"
      ],
      "execution_count": 107,
      "outputs": [
        {
          "output_type": "stream",
          "text": [
            "<class 'pandas.core.frame.DataFrame'>\n",
            "Index: 37825 entries, 2018JustinAbdelkader to 1940MiltSchmidt*\n",
            "Data columns (total 28 columns):\n",
            " #   Column  Non-Null Count  Dtype  \n",
            "---  ------  --------------  -----  \n",
            " 0   Season  37825 non-null  int64  \n",
            " 1   Player  37825 non-null  object \n",
            " 2   Age     37823 non-null  float64\n",
            " 3   Tm      37825 non-null  object \n",
            " 4   Pos     37825 non-null  object \n",
            " 5   GP      37825 non-null  int64  \n",
            " 6   G       29889 non-null  float64\n",
            " 7   GPG     37825 non-null  float64\n",
            " 8   A       32402 non-null  float64\n",
            " 9   PTS     33417 non-null  float64\n",
            " 10  +/-     30889 non-null  float64\n",
            " 11  PIM     34007 non-null  float64\n",
            " 12  EVG     26622 non-null  float64\n",
            " 13  PPG     16189 non-null  float64\n",
            " 14  SHG     6013 non-null   float64\n",
            " 15  GWG     16634 non-null  float64\n",
            " 16  EVA     28704 non-null  float64\n",
            " 17  PPA     18536 non-null  float64\n",
            " 18  SHA     6792 non-null   float64\n",
            " 19  S       32723 non-null  float64\n",
            " 20  S%      26819 non-null  float64\n",
            " 21  TOI     16625 non-null  object \n",
            " 22  ATOI    16625 non-null  object \n",
            " 23  BLK     9674 non-null   float64\n",
            " 24  HIT     9684 non-null   float64\n",
            " 25  FOwin   9674 non-null   float64\n",
            " 26  FOloss  9674 non-null   float64\n",
            " 27  FO%     6149 non-null   float64\n",
            "dtypes: float64(21), int64(2), object(5)\n",
            "memory usage: 8.4+ MB\n"
          ],
          "name": "stdout"
        }
      ]
    },
    {
      "cell_type": "code",
      "metadata": {
        "id": "Pj0Ph9xapdp2",
        "colab_type": "code",
        "colab": {}
      },
      "source": [
        "# Drop unneeded and string columns\n",
        "skater_stats = skater_stats.drop([\"ATOI\", \"Player\", \"Tm\"], axis = 1)"
      ],
      "execution_count": 0,
      "outputs": []
    },
    {
      "cell_type": "code",
      "metadata": {
        "id": "RDEbwVfys9f5",
        "colab_type": "code",
        "colab": {}
      },
      "source": [
        "def clean_toi(x):\n",
        "  ''' If TOI is a string, remove the comma and convert to float. '''\n",
        "  if isinstance(x, str):\n",
        "    return(x.replace(',', ''))\n",
        "  return(x)"
      ],
      "execution_count": 0,
      "outputs": []
    },
    {
      "cell_type": "code",
      "metadata": {
        "id": "gv57B1yQqFDK",
        "colab_type": "code",
        "colab": {}
      },
      "source": [
        "# Remove commas and convert TOI to float\n",
        "skater_stats['TOI'] = skater_stats['TOI'].apply(clean_toi).astype('float')"
      ],
      "execution_count": 0,
      "outputs": []
    },
    {
      "cell_type": "code",
      "metadata": {
        "id": "kxMjAbA7q57o",
        "colab_type": "code",
        "colab": {}
      },
      "source": [
        "# Create new ATOI by minute float so : is no longer needed\n",
        "skater_stats[\"ATOI\"] = skater_stats[\"TOI\"] / skater_stats[\"GP\"]"
      ],
      "execution_count": 0,
      "outputs": []
    },
    {
      "cell_type": "code",
      "metadata": {
        "id": "N23W21uVuPkW",
        "colab_type": "code",
        "colab": {
          "base_uri": "https://localhost:8080/",
          "height": 235
        },
        "outputId": "874465e7-1df1-4e23-f37b-9b255276af8a"
      },
      "source": [
        "skater_stats.head()"
      ],
      "execution_count": 112,
      "outputs": [
        {
          "output_type": "execute_result",
          "data": {
            "text/html": [
              "<div>\n",
              "<style scoped>\n",
              "    .dataframe tbody tr th:only-of-type {\n",
              "        vertical-align: middle;\n",
              "    }\n",
              "\n",
              "    .dataframe tbody tr th {\n",
              "        vertical-align: top;\n",
              "    }\n",
              "\n",
              "    .dataframe thead th {\n",
              "        text-align: right;\n",
              "    }\n",
              "</style>\n",
              "<table border=\"1\" class=\"dataframe\">\n",
              "  <thead>\n",
              "    <tr style=\"text-align: right;\">\n",
              "      <th></th>\n",
              "      <th>Season</th>\n",
              "      <th>Age</th>\n",
              "      <th>Pos</th>\n",
              "      <th>GP</th>\n",
              "      <th>G</th>\n",
              "      <th>GPG</th>\n",
              "      <th>A</th>\n",
              "      <th>PTS</th>\n",
              "      <th>+/-</th>\n",
              "      <th>PIM</th>\n",
              "      <th>EVG</th>\n",
              "      <th>PPG</th>\n",
              "      <th>SHG</th>\n",
              "      <th>GWG</th>\n",
              "      <th>EVA</th>\n",
              "      <th>PPA</th>\n",
              "      <th>SHA</th>\n",
              "      <th>S</th>\n",
              "      <th>S%</th>\n",
              "      <th>TOI</th>\n",
              "      <th>BLK</th>\n",
              "      <th>HIT</th>\n",
              "      <th>FOwin</th>\n",
              "      <th>FOloss</th>\n",
              "      <th>FO%</th>\n",
              "      <th>ATOI</th>\n",
              "    </tr>\n",
              "    <tr>\n",
              "      <th>Key</th>\n",
              "      <th></th>\n",
              "      <th></th>\n",
              "      <th></th>\n",
              "      <th></th>\n",
              "      <th></th>\n",
              "      <th></th>\n",
              "      <th></th>\n",
              "      <th></th>\n",
              "      <th></th>\n",
              "      <th></th>\n",
              "      <th></th>\n",
              "      <th></th>\n",
              "      <th></th>\n",
              "      <th></th>\n",
              "      <th></th>\n",
              "      <th></th>\n",
              "      <th></th>\n",
              "      <th></th>\n",
              "      <th></th>\n",
              "      <th></th>\n",
              "      <th></th>\n",
              "      <th></th>\n",
              "      <th></th>\n",
              "      <th></th>\n",
              "      <th></th>\n",
              "      <th></th>\n",
              "    </tr>\n",
              "  </thead>\n",
              "  <tbody>\n",
              "    <tr>\n",
              "      <th>2018JustinAbdelkader</th>\n",
              "      <td>2018</td>\n",
              "      <td>30.0</td>\n",
              "      <td>LW</td>\n",
              "      <td>75</td>\n",
              "      <td>13.0</td>\n",
              "      <td>0.1733</td>\n",
              "      <td>22.0</td>\n",
              "      <td>35.0</td>\n",
              "      <td>-11.0</td>\n",
              "      <td>78.0</td>\n",
              "      <td>9.0</td>\n",
              "      <td>4.0</td>\n",
              "      <td>NaN</td>\n",
              "      <td>NaN</td>\n",
              "      <td>17.0</td>\n",
              "      <td>5.0</td>\n",
              "      <td>NaN</td>\n",
              "      <td>110.0</td>\n",
              "      <td>12.0</td>\n",
              "      <td>1241.0</td>\n",
              "      <td>40.0</td>\n",
              "      <td>174.0</td>\n",
              "      <td>47.0</td>\n",
              "      <td>50.0</td>\n",
              "      <td>48.5</td>\n",
              "      <td>16.546667</td>\n",
              "    </tr>\n",
              "    <tr>\n",
              "      <th>2018PontusAberg</th>\n",
              "      <td>2018</td>\n",
              "      <td>24.0</td>\n",
              "      <td>LW</td>\n",
              "      <td>53</td>\n",
              "      <td>4.0</td>\n",
              "      <td>0.0755</td>\n",
              "      <td>12.0</td>\n",
              "      <td>16.0</td>\n",
              "      <td>9.0</td>\n",
              "      <td>10.0</td>\n",
              "      <td>4.0</td>\n",
              "      <td>NaN</td>\n",
              "      <td>NaN</td>\n",
              "      <td>3.0</td>\n",
              "      <td>11.0</td>\n",
              "      <td>1.0</td>\n",
              "      <td>NaN</td>\n",
              "      <td>70.0</td>\n",
              "      <td>6.0</td>\n",
              "      <td>645.0</td>\n",
              "      <td>8.0</td>\n",
              "      <td>24.0</td>\n",
              "      <td>4.0</td>\n",
              "      <td>8.0</td>\n",
              "      <td>33.3</td>\n",
              "      <td>12.169811</td>\n",
              "    </tr>\n",
              "    <tr>\n",
              "      <th>2018NoelAcciari</th>\n",
              "      <td>2018</td>\n",
              "      <td>26.0</td>\n",
              "      <td>C</td>\n",
              "      <td>60</td>\n",
              "      <td>10.0</td>\n",
              "      <td>0.1667</td>\n",
              "      <td>1.0</td>\n",
              "      <td>11.0</td>\n",
              "      <td>-6.0</td>\n",
              "      <td>9.0</td>\n",
              "      <td>9.0</td>\n",
              "      <td>NaN</td>\n",
              "      <td>1.0</td>\n",
              "      <td>NaN</td>\n",
              "      <td>1.0</td>\n",
              "      <td>NaN</td>\n",
              "      <td>NaN</td>\n",
              "      <td>66.0</td>\n",
              "      <td>15.0</td>\n",
              "      <td>775.0</td>\n",
              "      <td>41.0</td>\n",
              "      <td>152.0</td>\n",
              "      <td>42.0</td>\n",
              "      <td>51.0</td>\n",
              "      <td>45.2</td>\n",
              "      <td>12.916667</td>\n",
              "    </tr>\n",
              "    <tr>\n",
              "      <th>2018KennyAgostino</th>\n",
              "      <td>2018</td>\n",
              "      <td>25.0</td>\n",
              "      <td>LW</td>\n",
              "      <td>5</td>\n",
              "      <td>NaN</td>\n",
              "      <td>0.0000</td>\n",
              "      <td>1.0</td>\n",
              "      <td>1.0</td>\n",
              "      <td>-1.0</td>\n",
              "      <td>4.0</td>\n",
              "      <td>NaN</td>\n",
              "      <td>NaN</td>\n",
              "      <td>NaN</td>\n",
              "      <td>NaN</td>\n",
              "      <td>NaN</td>\n",
              "      <td>1.0</td>\n",
              "      <td>NaN</td>\n",
              "      <td>11.0</td>\n",
              "      <td>NaN</td>\n",
              "      <td>60.0</td>\n",
              "      <td>1.0</td>\n",
              "      <td>4.0</td>\n",
              "      <td>0.0</td>\n",
              "      <td>1.0</td>\n",
              "      <td>0.0</td>\n",
              "      <td>12.000000</td>\n",
              "    </tr>\n",
              "    <tr>\n",
              "      <th>2018SebastianAho</th>\n",
              "      <td>2018</td>\n",
              "      <td>20.0</td>\n",
              "      <td>RW</td>\n",
              "      <td>78</td>\n",
              "      <td>29.0</td>\n",
              "      <td>0.3718</td>\n",
              "      <td>36.0</td>\n",
              "      <td>65.0</td>\n",
              "      <td>4.0</td>\n",
              "      <td>24.0</td>\n",
              "      <td>21.0</td>\n",
              "      <td>8.0</td>\n",
              "      <td>NaN</td>\n",
              "      <td>4.0</td>\n",
              "      <td>28.0</td>\n",
              "      <td>8.0</td>\n",
              "      <td>NaN</td>\n",
              "      <td>200.0</td>\n",
              "      <td>15.0</td>\n",
              "      <td>1398.0</td>\n",
              "      <td>17.0</td>\n",
              "      <td>65.0</td>\n",
              "      <td>78.0</td>\n",
              "      <td>94.0</td>\n",
              "      <td>45.3</td>\n",
              "      <td>17.923077</td>\n",
              "    </tr>\n",
              "  </tbody>\n",
              "</table>\n",
              "</div>"
            ],
            "text/plain": [
              "                      Season   Age Pos  GP  ...  FOwin  FOloss   FO%       ATOI\n",
              "Key                                         ...                                \n",
              "2018JustinAbdelkader    2018  30.0  LW  75  ...   47.0    50.0  48.5  16.546667\n",
              "2018PontusAberg         2018  24.0  LW  53  ...    4.0     8.0  33.3  12.169811\n",
              "2018NoelAcciari         2018  26.0   C  60  ...   42.0    51.0  45.2  12.916667\n",
              "2018KennyAgostino       2018  25.0  LW   5  ...    0.0     1.0   0.0  12.000000\n",
              "2018SebastianAho        2018  20.0  RW  78  ...   78.0    94.0  45.3  17.923077\n",
              "\n",
              "[5 rows x 26 columns]"
            ]
          },
          "metadata": {
            "tags": []
          },
          "execution_count": 112
        }
      ]
    },
    {
      "cell_type": "markdown",
      "metadata": {
        "id": "2gAuT6x2xNLO",
        "colab_type": "text"
      },
      "source": [
        "FO % was not recorded before 2008, so I am choosing just to use 2008 to 2018 to train this model."
      ]
    },
    {
      "cell_type": "code",
      "metadata": {
        "id": "3LrfBdNgxhyq",
        "colab_type": "code",
        "colab": {}
      },
      "source": [
        "skater_stats0818 = skater_stats[skater_stats[\"Season\"] > 2007]"
      ],
      "execution_count": 0,
      "outputs": []
    },
    {
      "cell_type": "code",
      "metadata": {
        "id": "KUWXHXT9xrE-",
        "colab_type": "code",
        "colab": {
          "base_uri": "https://localhost:8080/",
          "height": 235
        },
        "outputId": "2cef9bd5-5930-4b2b-856e-e8f030828256"
      },
      "source": [
        "skater_stats0818.tail()"
      ],
      "execution_count": 114,
      "outputs": [
        {
          "output_type": "execute_result",
          "data": {
            "text/html": [
              "<div>\n",
              "<style scoped>\n",
              "    .dataframe tbody tr th:only-of-type {\n",
              "        vertical-align: middle;\n",
              "    }\n",
              "\n",
              "    .dataframe tbody tr th {\n",
              "        vertical-align: top;\n",
              "    }\n",
              "\n",
              "    .dataframe thead th {\n",
              "        text-align: right;\n",
              "    }\n",
              "</style>\n",
              "<table border=\"1\" class=\"dataframe\">\n",
              "  <thead>\n",
              "    <tr style=\"text-align: right;\">\n",
              "      <th></th>\n",
              "      <th>Season</th>\n",
              "      <th>Age</th>\n",
              "      <th>Pos</th>\n",
              "      <th>GP</th>\n",
              "      <th>G</th>\n",
              "      <th>GPG</th>\n",
              "      <th>A</th>\n",
              "      <th>PTS</th>\n",
              "      <th>+/-</th>\n",
              "      <th>PIM</th>\n",
              "      <th>EVG</th>\n",
              "      <th>PPG</th>\n",
              "      <th>SHG</th>\n",
              "      <th>GWG</th>\n",
              "      <th>EVA</th>\n",
              "      <th>PPA</th>\n",
              "      <th>SHA</th>\n",
              "      <th>S</th>\n",
              "      <th>S%</th>\n",
              "      <th>TOI</th>\n",
              "      <th>BLK</th>\n",
              "      <th>HIT</th>\n",
              "      <th>FOwin</th>\n",
              "      <th>FOloss</th>\n",
              "      <th>FO%</th>\n",
              "      <th>ATOI</th>\n",
              "    </tr>\n",
              "    <tr>\n",
              "      <th>Key</th>\n",
              "      <th></th>\n",
              "      <th></th>\n",
              "      <th></th>\n",
              "      <th></th>\n",
              "      <th></th>\n",
              "      <th></th>\n",
              "      <th></th>\n",
              "      <th></th>\n",
              "      <th></th>\n",
              "      <th></th>\n",
              "      <th></th>\n",
              "      <th></th>\n",
              "      <th></th>\n",
              "      <th></th>\n",
              "      <th></th>\n",
              "      <th></th>\n",
              "      <th></th>\n",
              "      <th></th>\n",
              "      <th></th>\n",
              "      <th></th>\n",
              "      <th></th>\n",
              "      <th></th>\n",
              "      <th></th>\n",
              "      <th></th>\n",
              "      <th></th>\n",
              "      <th></th>\n",
              "    </tr>\n",
              "  </thead>\n",
              "  <tbody>\n",
              "    <tr>\n",
              "      <th>2008PeterVandermeer</th>\n",
              "      <td>2008</td>\n",
              "      <td>32.0</td>\n",
              "      <td>LW</td>\n",
              "      <td>2</td>\n",
              "      <td>NaN</td>\n",
              "      <td>0.0</td>\n",
              "      <td>NaN</td>\n",
              "      <td>NaN</td>\n",
              "      <td>NaN</td>\n",
              "      <td>NaN</td>\n",
              "      <td>NaN</td>\n",
              "      <td>NaN</td>\n",
              "      <td>NaN</td>\n",
              "      <td>NaN</td>\n",
              "      <td>NaN</td>\n",
              "      <td>NaN</td>\n",
              "      <td>NaN</td>\n",
              "      <td>NaN</td>\n",
              "      <td>NaN</td>\n",
              "      <td>15.0</td>\n",
              "      <td>1.0</td>\n",
              "      <td>2.0</td>\n",
              "      <td>0.0</td>\n",
              "      <td>0.0</td>\n",
              "      <td>NaN</td>\n",
              "      <td>7.5</td>\n",
              "    </tr>\n",
              "    <tr>\n",
              "      <th>2008NoahWelch</th>\n",
              "      <td>2008</td>\n",
              "      <td>25.0</td>\n",
              "      <td>D</td>\n",
              "      <td>4</td>\n",
              "      <td>NaN</td>\n",
              "      <td>0.0</td>\n",
              "      <td>NaN</td>\n",
              "      <td>NaN</td>\n",
              "      <td>1.0</td>\n",
              "      <td>7.0</td>\n",
              "      <td>NaN</td>\n",
              "      <td>NaN</td>\n",
              "      <td>NaN</td>\n",
              "      <td>NaN</td>\n",
              "      <td>NaN</td>\n",
              "      <td>NaN</td>\n",
              "      <td>NaN</td>\n",
              "      <td>NaN</td>\n",
              "      <td>NaN</td>\n",
              "      <td>32.0</td>\n",
              "      <td>2.0</td>\n",
              "      <td>6.0</td>\n",
              "      <td>0.0</td>\n",
              "      <td>0.0</td>\n",
              "      <td>NaN</td>\n",
              "      <td>8.0</td>\n",
              "    </tr>\n",
              "    <tr>\n",
              "      <th>2008JesseWinchester</th>\n",
              "      <td>2008</td>\n",
              "      <td>24.0</td>\n",
              "      <td>C</td>\n",
              "      <td>1</td>\n",
              "      <td>NaN</td>\n",
              "      <td>0.0</td>\n",
              "      <td>NaN</td>\n",
              "      <td>NaN</td>\n",
              "      <td>NaN</td>\n",
              "      <td>2.0</td>\n",
              "      <td>NaN</td>\n",
              "      <td>NaN</td>\n",
              "      <td>NaN</td>\n",
              "      <td>NaN</td>\n",
              "      <td>NaN</td>\n",
              "      <td>NaN</td>\n",
              "      <td>NaN</td>\n",
              "      <td>1.0</td>\n",
              "      <td>NaN</td>\n",
              "      <td>14.0</td>\n",
              "      <td>0.0</td>\n",
              "      <td>1.0</td>\n",
              "      <td>0.0</td>\n",
              "      <td>0.0</td>\n",
              "      <td>NaN</td>\n",
              "      <td>14.0</td>\n",
              "    </tr>\n",
              "    <tr>\n",
              "      <th>2008BryanYoung</th>\n",
              "      <td>2008</td>\n",
              "      <td>21.0</td>\n",
              "      <td>D</td>\n",
              "      <td>2</td>\n",
              "      <td>NaN</td>\n",
              "      <td>0.0</td>\n",
              "      <td>NaN</td>\n",
              "      <td>NaN</td>\n",
              "      <td>-1.0</td>\n",
              "      <td>NaN</td>\n",
              "      <td>NaN</td>\n",
              "      <td>NaN</td>\n",
              "      <td>NaN</td>\n",
              "      <td>NaN</td>\n",
              "      <td>NaN</td>\n",
              "      <td>NaN</td>\n",
              "      <td>NaN</td>\n",
              "      <td>NaN</td>\n",
              "      <td>NaN</td>\n",
              "      <td>4.0</td>\n",
              "      <td>0.0</td>\n",
              "      <td>1.0</td>\n",
              "      <td>0.0</td>\n",
              "      <td>0.0</td>\n",
              "      <td>NaN</td>\n",
              "      <td>2.0</td>\n",
              "    </tr>\n",
              "    <tr>\n",
              "      <th>2008IlyaZubov</th>\n",
              "      <td>2008</td>\n",
              "      <td>20.0</td>\n",
              "      <td>C</td>\n",
              "      <td>1</td>\n",
              "      <td>NaN</td>\n",
              "      <td>0.0</td>\n",
              "      <td>NaN</td>\n",
              "      <td>NaN</td>\n",
              "      <td>NaN</td>\n",
              "      <td>NaN</td>\n",
              "      <td>NaN</td>\n",
              "      <td>NaN</td>\n",
              "      <td>NaN</td>\n",
              "      <td>NaN</td>\n",
              "      <td>NaN</td>\n",
              "      <td>NaN</td>\n",
              "      <td>NaN</td>\n",
              "      <td>NaN</td>\n",
              "      <td>NaN</td>\n",
              "      <td>15.0</td>\n",
              "      <td>0.0</td>\n",
              "      <td>3.0</td>\n",
              "      <td>2.0</td>\n",
              "      <td>3.0</td>\n",
              "      <td>40.0</td>\n",
              "      <td>15.0</td>\n",
              "    </tr>\n",
              "  </tbody>\n",
              "</table>\n",
              "</div>"
            ],
            "text/plain": [
              "                     Season   Age Pos  GP   G  ...  HIT  FOwin  FOloss   FO%  ATOI\n",
              "Key                                            ...                                \n",
              "2008PeterVandermeer    2008  32.0  LW   2 NaN  ...  2.0    0.0     0.0   NaN   7.5\n",
              "2008NoahWelch          2008  25.0   D   4 NaN  ...  6.0    0.0     0.0   NaN   8.0\n",
              "2008JesseWinchester    2008  24.0   C   1 NaN  ...  1.0    0.0     0.0   NaN  14.0\n",
              "2008BryanYoung         2008  21.0   D   2 NaN  ...  1.0    0.0     0.0   NaN   2.0\n",
              "2008IlyaZubov          2008  20.0   C   1 NaN  ...  3.0    2.0     3.0  40.0  15.0\n",
              "\n",
              "[5 rows x 26 columns]"
            ]
          },
          "metadata": {
            "tags": []
          },
          "execution_count": 114
        }
      ]
    },
    {
      "cell_type": "code",
      "metadata": {
        "id": "Y3GezFckxyvv",
        "colab_type": "code",
        "colab": {
          "base_uri": "https://localhost:8080/",
          "height": 235
        },
        "outputId": "6aa92d8d-c58a-4d98-e68f-5abe6d0b59b4"
      },
      "source": [
        "skater_stats0818.head()"
      ],
      "execution_count": 115,
      "outputs": [
        {
          "output_type": "execute_result",
          "data": {
            "text/html": [
              "<div>\n",
              "<style scoped>\n",
              "    .dataframe tbody tr th:only-of-type {\n",
              "        vertical-align: middle;\n",
              "    }\n",
              "\n",
              "    .dataframe tbody tr th {\n",
              "        vertical-align: top;\n",
              "    }\n",
              "\n",
              "    .dataframe thead th {\n",
              "        text-align: right;\n",
              "    }\n",
              "</style>\n",
              "<table border=\"1\" class=\"dataframe\">\n",
              "  <thead>\n",
              "    <tr style=\"text-align: right;\">\n",
              "      <th></th>\n",
              "      <th>Season</th>\n",
              "      <th>Age</th>\n",
              "      <th>Pos</th>\n",
              "      <th>GP</th>\n",
              "      <th>G</th>\n",
              "      <th>GPG</th>\n",
              "      <th>A</th>\n",
              "      <th>PTS</th>\n",
              "      <th>+/-</th>\n",
              "      <th>PIM</th>\n",
              "      <th>EVG</th>\n",
              "      <th>PPG</th>\n",
              "      <th>SHG</th>\n",
              "      <th>GWG</th>\n",
              "      <th>EVA</th>\n",
              "      <th>PPA</th>\n",
              "      <th>SHA</th>\n",
              "      <th>S</th>\n",
              "      <th>S%</th>\n",
              "      <th>TOI</th>\n",
              "      <th>BLK</th>\n",
              "      <th>HIT</th>\n",
              "      <th>FOwin</th>\n",
              "      <th>FOloss</th>\n",
              "      <th>FO%</th>\n",
              "      <th>ATOI</th>\n",
              "    </tr>\n",
              "    <tr>\n",
              "      <th>Key</th>\n",
              "      <th></th>\n",
              "      <th></th>\n",
              "      <th></th>\n",
              "      <th></th>\n",
              "      <th></th>\n",
              "      <th></th>\n",
              "      <th></th>\n",
              "      <th></th>\n",
              "      <th></th>\n",
              "      <th></th>\n",
              "      <th></th>\n",
              "      <th></th>\n",
              "      <th></th>\n",
              "      <th></th>\n",
              "      <th></th>\n",
              "      <th></th>\n",
              "      <th></th>\n",
              "      <th></th>\n",
              "      <th></th>\n",
              "      <th></th>\n",
              "      <th></th>\n",
              "      <th></th>\n",
              "      <th></th>\n",
              "      <th></th>\n",
              "      <th></th>\n",
              "      <th></th>\n",
              "    </tr>\n",
              "  </thead>\n",
              "  <tbody>\n",
              "    <tr>\n",
              "      <th>2018JustinAbdelkader</th>\n",
              "      <td>2018</td>\n",
              "      <td>30.0</td>\n",
              "      <td>LW</td>\n",
              "      <td>75</td>\n",
              "      <td>13.0</td>\n",
              "      <td>0.1733</td>\n",
              "      <td>22.0</td>\n",
              "      <td>35.0</td>\n",
              "      <td>-11.0</td>\n",
              "      <td>78.0</td>\n",
              "      <td>9.0</td>\n",
              "      <td>4.0</td>\n",
              "      <td>NaN</td>\n",
              "      <td>NaN</td>\n",
              "      <td>17.0</td>\n",
              "      <td>5.0</td>\n",
              "      <td>NaN</td>\n",
              "      <td>110.0</td>\n",
              "      <td>12.0</td>\n",
              "      <td>1241.0</td>\n",
              "      <td>40.0</td>\n",
              "      <td>174.0</td>\n",
              "      <td>47.0</td>\n",
              "      <td>50.0</td>\n",
              "      <td>48.5</td>\n",
              "      <td>16.546667</td>\n",
              "    </tr>\n",
              "    <tr>\n",
              "      <th>2018PontusAberg</th>\n",
              "      <td>2018</td>\n",
              "      <td>24.0</td>\n",
              "      <td>LW</td>\n",
              "      <td>53</td>\n",
              "      <td>4.0</td>\n",
              "      <td>0.0755</td>\n",
              "      <td>12.0</td>\n",
              "      <td>16.0</td>\n",
              "      <td>9.0</td>\n",
              "      <td>10.0</td>\n",
              "      <td>4.0</td>\n",
              "      <td>NaN</td>\n",
              "      <td>NaN</td>\n",
              "      <td>3.0</td>\n",
              "      <td>11.0</td>\n",
              "      <td>1.0</td>\n",
              "      <td>NaN</td>\n",
              "      <td>70.0</td>\n",
              "      <td>6.0</td>\n",
              "      <td>645.0</td>\n",
              "      <td>8.0</td>\n",
              "      <td>24.0</td>\n",
              "      <td>4.0</td>\n",
              "      <td>8.0</td>\n",
              "      <td>33.3</td>\n",
              "      <td>12.169811</td>\n",
              "    </tr>\n",
              "    <tr>\n",
              "      <th>2018NoelAcciari</th>\n",
              "      <td>2018</td>\n",
              "      <td>26.0</td>\n",
              "      <td>C</td>\n",
              "      <td>60</td>\n",
              "      <td>10.0</td>\n",
              "      <td>0.1667</td>\n",
              "      <td>1.0</td>\n",
              "      <td>11.0</td>\n",
              "      <td>-6.0</td>\n",
              "      <td>9.0</td>\n",
              "      <td>9.0</td>\n",
              "      <td>NaN</td>\n",
              "      <td>1.0</td>\n",
              "      <td>NaN</td>\n",
              "      <td>1.0</td>\n",
              "      <td>NaN</td>\n",
              "      <td>NaN</td>\n",
              "      <td>66.0</td>\n",
              "      <td>15.0</td>\n",
              "      <td>775.0</td>\n",
              "      <td>41.0</td>\n",
              "      <td>152.0</td>\n",
              "      <td>42.0</td>\n",
              "      <td>51.0</td>\n",
              "      <td>45.2</td>\n",
              "      <td>12.916667</td>\n",
              "    </tr>\n",
              "    <tr>\n",
              "      <th>2018KennyAgostino</th>\n",
              "      <td>2018</td>\n",
              "      <td>25.0</td>\n",
              "      <td>LW</td>\n",
              "      <td>5</td>\n",
              "      <td>NaN</td>\n",
              "      <td>0.0000</td>\n",
              "      <td>1.0</td>\n",
              "      <td>1.0</td>\n",
              "      <td>-1.0</td>\n",
              "      <td>4.0</td>\n",
              "      <td>NaN</td>\n",
              "      <td>NaN</td>\n",
              "      <td>NaN</td>\n",
              "      <td>NaN</td>\n",
              "      <td>NaN</td>\n",
              "      <td>1.0</td>\n",
              "      <td>NaN</td>\n",
              "      <td>11.0</td>\n",
              "      <td>NaN</td>\n",
              "      <td>60.0</td>\n",
              "      <td>1.0</td>\n",
              "      <td>4.0</td>\n",
              "      <td>0.0</td>\n",
              "      <td>1.0</td>\n",
              "      <td>0.0</td>\n",
              "      <td>12.000000</td>\n",
              "    </tr>\n",
              "    <tr>\n",
              "      <th>2018SebastianAho</th>\n",
              "      <td>2018</td>\n",
              "      <td>20.0</td>\n",
              "      <td>RW</td>\n",
              "      <td>78</td>\n",
              "      <td>29.0</td>\n",
              "      <td>0.3718</td>\n",
              "      <td>36.0</td>\n",
              "      <td>65.0</td>\n",
              "      <td>4.0</td>\n",
              "      <td>24.0</td>\n",
              "      <td>21.0</td>\n",
              "      <td>8.0</td>\n",
              "      <td>NaN</td>\n",
              "      <td>4.0</td>\n",
              "      <td>28.0</td>\n",
              "      <td>8.0</td>\n",
              "      <td>NaN</td>\n",
              "      <td>200.0</td>\n",
              "      <td>15.0</td>\n",
              "      <td>1398.0</td>\n",
              "      <td>17.0</td>\n",
              "      <td>65.0</td>\n",
              "      <td>78.0</td>\n",
              "      <td>94.0</td>\n",
              "      <td>45.3</td>\n",
              "      <td>17.923077</td>\n",
              "    </tr>\n",
              "  </tbody>\n",
              "</table>\n",
              "</div>"
            ],
            "text/plain": [
              "                      Season   Age Pos  GP  ...  FOwin  FOloss   FO%       ATOI\n",
              "Key                                         ...                                \n",
              "2018JustinAbdelkader    2018  30.0  LW  75  ...   47.0    50.0  48.5  16.546667\n",
              "2018PontusAberg         2018  24.0  LW  53  ...    4.0     8.0  33.3  12.169811\n",
              "2018NoelAcciari         2018  26.0   C  60  ...   42.0    51.0  45.2  12.916667\n",
              "2018KennyAgostino       2018  25.0  LW   5  ...    0.0     1.0   0.0  12.000000\n",
              "2018SebastianAho        2018  20.0  RW  78  ...   78.0    94.0  45.3  17.923077\n",
              "\n",
              "[5 rows x 26 columns]"
            ]
          },
          "metadata": {
            "tags": []
          },
          "execution_count": 115
        }
      ]
    },
    {
      "cell_type": "code",
      "metadata": {
        "id": "AzJTrk-8x_B5",
        "colab_type": "code",
        "colab": {
          "base_uri": "https://localhost:8080/",
          "height": 235
        },
        "outputId": "7cb16119-cba7-493b-c56f-7b643af6c984"
      },
      "source": [
        "# Replace NaNs with 0\n",
        "skater_stats0818= skater_stats0818.fillna(0)\n",
        "skater_stats0818.head()"
      ],
      "execution_count": 116,
      "outputs": [
        {
          "output_type": "execute_result",
          "data": {
            "text/html": [
              "<div>\n",
              "<style scoped>\n",
              "    .dataframe tbody tr th:only-of-type {\n",
              "        vertical-align: middle;\n",
              "    }\n",
              "\n",
              "    .dataframe tbody tr th {\n",
              "        vertical-align: top;\n",
              "    }\n",
              "\n",
              "    .dataframe thead th {\n",
              "        text-align: right;\n",
              "    }\n",
              "</style>\n",
              "<table border=\"1\" class=\"dataframe\">\n",
              "  <thead>\n",
              "    <tr style=\"text-align: right;\">\n",
              "      <th></th>\n",
              "      <th>Season</th>\n",
              "      <th>Age</th>\n",
              "      <th>Pos</th>\n",
              "      <th>GP</th>\n",
              "      <th>G</th>\n",
              "      <th>GPG</th>\n",
              "      <th>A</th>\n",
              "      <th>PTS</th>\n",
              "      <th>+/-</th>\n",
              "      <th>PIM</th>\n",
              "      <th>EVG</th>\n",
              "      <th>PPG</th>\n",
              "      <th>SHG</th>\n",
              "      <th>GWG</th>\n",
              "      <th>EVA</th>\n",
              "      <th>PPA</th>\n",
              "      <th>SHA</th>\n",
              "      <th>S</th>\n",
              "      <th>S%</th>\n",
              "      <th>TOI</th>\n",
              "      <th>BLK</th>\n",
              "      <th>HIT</th>\n",
              "      <th>FOwin</th>\n",
              "      <th>FOloss</th>\n",
              "      <th>FO%</th>\n",
              "      <th>ATOI</th>\n",
              "    </tr>\n",
              "    <tr>\n",
              "      <th>Key</th>\n",
              "      <th></th>\n",
              "      <th></th>\n",
              "      <th></th>\n",
              "      <th></th>\n",
              "      <th></th>\n",
              "      <th></th>\n",
              "      <th></th>\n",
              "      <th></th>\n",
              "      <th></th>\n",
              "      <th></th>\n",
              "      <th></th>\n",
              "      <th></th>\n",
              "      <th></th>\n",
              "      <th></th>\n",
              "      <th></th>\n",
              "      <th></th>\n",
              "      <th></th>\n",
              "      <th></th>\n",
              "      <th></th>\n",
              "      <th></th>\n",
              "      <th></th>\n",
              "      <th></th>\n",
              "      <th></th>\n",
              "      <th></th>\n",
              "      <th></th>\n",
              "      <th></th>\n",
              "    </tr>\n",
              "  </thead>\n",
              "  <tbody>\n",
              "    <tr>\n",
              "      <th>2018JustinAbdelkader</th>\n",
              "      <td>2018</td>\n",
              "      <td>30.0</td>\n",
              "      <td>LW</td>\n",
              "      <td>75</td>\n",
              "      <td>13.0</td>\n",
              "      <td>0.1733</td>\n",
              "      <td>22.0</td>\n",
              "      <td>35.0</td>\n",
              "      <td>-11.0</td>\n",
              "      <td>78.0</td>\n",
              "      <td>9.0</td>\n",
              "      <td>4.0</td>\n",
              "      <td>0.0</td>\n",
              "      <td>0.0</td>\n",
              "      <td>17.0</td>\n",
              "      <td>5.0</td>\n",
              "      <td>0.0</td>\n",
              "      <td>110.0</td>\n",
              "      <td>12.0</td>\n",
              "      <td>1241.0</td>\n",
              "      <td>40.0</td>\n",
              "      <td>174.0</td>\n",
              "      <td>47.0</td>\n",
              "      <td>50.0</td>\n",
              "      <td>48.5</td>\n",
              "      <td>16.546667</td>\n",
              "    </tr>\n",
              "    <tr>\n",
              "      <th>2018PontusAberg</th>\n",
              "      <td>2018</td>\n",
              "      <td>24.0</td>\n",
              "      <td>LW</td>\n",
              "      <td>53</td>\n",
              "      <td>4.0</td>\n",
              "      <td>0.0755</td>\n",
              "      <td>12.0</td>\n",
              "      <td>16.0</td>\n",
              "      <td>9.0</td>\n",
              "      <td>10.0</td>\n",
              "      <td>4.0</td>\n",
              "      <td>0.0</td>\n",
              "      <td>0.0</td>\n",
              "      <td>3.0</td>\n",
              "      <td>11.0</td>\n",
              "      <td>1.0</td>\n",
              "      <td>0.0</td>\n",
              "      <td>70.0</td>\n",
              "      <td>6.0</td>\n",
              "      <td>645.0</td>\n",
              "      <td>8.0</td>\n",
              "      <td>24.0</td>\n",
              "      <td>4.0</td>\n",
              "      <td>8.0</td>\n",
              "      <td>33.3</td>\n",
              "      <td>12.169811</td>\n",
              "    </tr>\n",
              "    <tr>\n",
              "      <th>2018NoelAcciari</th>\n",
              "      <td>2018</td>\n",
              "      <td>26.0</td>\n",
              "      <td>C</td>\n",
              "      <td>60</td>\n",
              "      <td>10.0</td>\n",
              "      <td>0.1667</td>\n",
              "      <td>1.0</td>\n",
              "      <td>11.0</td>\n",
              "      <td>-6.0</td>\n",
              "      <td>9.0</td>\n",
              "      <td>9.0</td>\n",
              "      <td>0.0</td>\n",
              "      <td>1.0</td>\n",
              "      <td>0.0</td>\n",
              "      <td>1.0</td>\n",
              "      <td>0.0</td>\n",
              "      <td>0.0</td>\n",
              "      <td>66.0</td>\n",
              "      <td>15.0</td>\n",
              "      <td>775.0</td>\n",
              "      <td>41.0</td>\n",
              "      <td>152.0</td>\n",
              "      <td>42.0</td>\n",
              "      <td>51.0</td>\n",
              "      <td>45.2</td>\n",
              "      <td>12.916667</td>\n",
              "    </tr>\n",
              "    <tr>\n",
              "      <th>2018KennyAgostino</th>\n",
              "      <td>2018</td>\n",
              "      <td>25.0</td>\n",
              "      <td>LW</td>\n",
              "      <td>5</td>\n",
              "      <td>0.0</td>\n",
              "      <td>0.0000</td>\n",
              "      <td>1.0</td>\n",
              "      <td>1.0</td>\n",
              "      <td>-1.0</td>\n",
              "      <td>4.0</td>\n",
              "      <td>0.0</td>\n",
              "      <td>0.0</td>\n",
              "      <td>0.0</td>\n",
              "      <td>0.0</td>\n",
              "      <td>0.0</td>\n",
              "      <td>1.0</td>\n",
              "      <td>0.0</td>\n",
              "      <td>11.0</td>\n",
              "      <td>0.0</td>\n",
              "      <td>60.0</td>\n",
              "      <td>1.0</td>\n",
              "      <td>4.0</td>\n",
              "      <td>0.0</td>\n",
              "      <td>1.0</td>\n",
              "      <td>0.0</td>\n",
              "      <td>12.000000</td>\n",
              "    </tr>\n",
              "    <tr>\n",
              "      <th>2018SebastianAho</th>\n",
              "      <td>2018</td>\n",
              "      <td>20.0</td>\n",
              "      <td>RW</td>\n",
              "      <td>78</td>\n",
              "      <td>29.0</td>\n",
              "      <td>0.3718</td>\n",
              "      <td>36.0</td>\n",
              "      <td>65.0</td>\n",
              "      <td>4.0</td>\n",
              "      <td>24.0</td>\n",
              "      <td>21.0</td>\n",
              "      <td>8.0</td>\n",
              "      <td>0.0</td>\n",
              "      <td>4.0</td>\n",
              "      <td>28.0</td>\n",
              "      <td>8.0</td>\n",
              "      <td>0.0</td>\n",
              "      <td>200.0</td>\n",
              "      <td>15.0</td>\n",
              "      <td>1398.0</td>\n",
              "      <td>17.0</td>\n",
              "      <td>65.0</td>\n",
              "      <td>78.0</td>\n",
              "      <td>94.0</td>\n",
              "      <td>45.3</td>\n",
              "      <td>17.923077</td>\n",
              "    </tr>\n",
              "  </tbody>\n",
              "</table>\n",
              "</div>"
            ],
            "text/plain": [
              "                      Season   Age Pos  GP  ...  FOwin  FOloss   FO%       ATOI\n",
              "Key                                         ...                                \n",
              "2018JustinAbdelkader    2018  30.0  LW  75  ...   47.0    50.0  48.5  16.546667\n",
              "2018PontusAberg         2018  24.0  LW  53  ...    4.0     8.0  33.3  12.169811\n",
              "2018NoelAcciari         2018  26.0   C  60  ...   42.0    51.0  45.2  12.916667\n",
              "2018KennyAgostino       2018  25.0  LW   5  ...    0.0     1.0   0.0  12.000000\n",
              "2018SebastianAho        2018  20.0  RW  78  ...   78.0    94.0  45.3  17.923077\n",
              "\n",
              "[5 rows x 26 columns]"
            ]
          },
          "metadata": {
            "tags": []
          },
          "execution_count": 116
        }
      ]
    },
    {
      "cell_type": "code",
      "metadata": {
        "id": "fdBcVRSay_hp",
        "colab_type": "code",
        "colab": {
          "base_uri": "https://localhost:8080/",
          "height": 187
        },
        "outputId": "d03495b4-04df-408b-b589-1b090be743f5"
      },
      "source": [
        "skater_stats0818[\"Pos\"].value_counts()"
      ],
      "execution_count": 117,
      "outputs": [
        {
          "output_type": "execute_result",
          "data": {
            "text/plain": [
              "D        3315\n",
              "C        2786\n",
              "LW       1830\n",
              "RW       1742\n",
              "C/LW        4\n",
              "LW/RW       3\n",
              "RW/LW       2\n",
              "LW/C        1\n",
              "RW/C        1\n",
              "Name: Pos, dtype: int64"
            ]
          },
          "metadata": {
            "tags": []
          },
          "execution_count": 117
        }
      ]
    },
    {
      "cell_type": "code",
      "metadata": {
        "id": "sAIIS3hY0HF5",
        "colab_type": "code",
        "colab": {}
      },
      "source": [
        "# Very few hybrid positions. Going to drop them for ease of use.\n",
        "\n",
        "skater_statstest = skater_stats0818[(skater_stats0818[\"Pos\"] == \"D\") | (skater_stats0818[\"Pos\"] == \"C\") | (skater_stats0818[\"Pos\"] == \"LW\") | (skater_stats0818[\"Pos\"] == \"RW\") ]"
      ],
      "execution_count": 0,
      "outputs": []
    },
    {
      "cell_type": "code",
      "metadata": {
        "id": "woMECa1q0yZ7",
        "colab_type": "code",
        "colab": {
          "base_uri": "https://localhost:8080/",
          "height": 102
        },
        "outputId": "d97a5b5e-f294-4fe3-e391-22c99e2c8b89"
      },
      "source": [
        "skater_statstest[\"Pos\"].value_counts()"
      ],
      "execution_count": 120,
      "outputs": [
        {
          "output_type": "execute_result",
          "data": {
            "text/plain": [
              "D     3315\n",
              "C     2786\n",
              "LW    1830\n",
              "RW    1742\n",
              "Name: Pos, dtype: int64"
            ]
          },
          "metadata": {
            "tags": []
          },
          "execution_count": 120
        }
      ]
    },
    {
      "cell_type": "code",
      "metadata": {
        "id": "4HSRJduS2Azi",
        "colab_type": "code",
        "colab": {}
      },
      "source": [
        "skater_stats0818 = skater_stats0818[(skater_stats0818[\"Pos\"] == \"D\") | (skater_stats0818[\"Pos\"] == \"C\") | (skater_stats0818[\"Pos\"] == \"LW\") | (skater_stats0818[\"Pos\"] == \"RW\") ]"
      ],
      "execution_count": 0,
      "outputs": []
    },
    {
      "cell_type": "code",
      "metadata": {
        "id": "WvVrw2Sb0JxK",
        "colab_type": "code",
        "colab": {}
      },
      "source": [
        "from sklearn.model_selection import train_test_split \n",
        "train, test = train_test_split(skater_stats0818, test_size=0.25, stratify=skater_stats0818['Pos'], random_state = 7)"
      ],
      "execution_count": 0,
      "outputs": []
    },
    {
      "cell_type": "code",
      "metadata": {
        "id": "v1ry-mjU2PFL",
        "colab_type": "code",
        "colab": {}
      },
      "source": [
        "train_skater_stats0818 = train.drop([\"Pos\", \"Season\"], axis = 1)"
      ],
      "execution_count": 0,
      "outputs": []
    },
    {
      "cell_type": "code",
      "metadata": {
        "id": "UEm4Ss8S3TJq",
        "colab_type": "code",
        "colab": {}
      },
      "source": [
        "test_skater_stats0818 = test.drop([\"Pos\", \"Season\"], axis = 1)"
      ],
      "execution_count": 0,
      "outputs": []
    },
    {
      "cell_type": "code",
      "metadata": {
        "id": "pFEwgqAc3ZYL",
        "colab_type": "code",
        "colab": {}
      },
      "source": [
        "train_labels = train[\"Pos\"]"
      ],
      "execution_count": 0,
      "outputs": []
    },
    {
      "cell_type": "code",
      "metadata": {
        "id": "W7pZ5y9W3o8s",
        "colab_type": "code",
        "colab": {}
      },
      "source": [
        "test_labels = test[\"Pos\"]"
      ],
      "execution_count": 0,
      "outputs": []
    },
    {
      "cell_type": "code",
      "metadata": {
        "id": "uUx0TdaD3shY",
        "colab_type": "code",
        "colab": {
          "base_uri": "https://localhost:8080/",
          "height": 153
        },
        "outputId": "bd8e58fb-928d-438f-bf22-b39b471e12db"
      },
      "source": [
        "# Random forest test\n",
        "\n",
        "from sklearn.ensemble import RandomForestClassifier\n",
        "\n",
        "rf = RandomForestClassifier(n_estimators=100,max_depth=10, random_state= 7)\n",
        "\n",
        "rf.fit(train_skater_stats0818,train_labels)"
      ],
      "execution_count": 189,
      "outputs": [
        {
          "output_type": "execute_result",
          "data": {
            "text/plain": [
              "RandomForestClassifier(bootstrap=True, ccp_alpha=0.0, class_weight=None,\n",
              "                       criterion='gini', max_depth=10, max_features='auto',\n",
              "                       max_leaf_nodes=None, max_samples=None,\n",
              "                       min_impurity_decrease=0.0, min_impurity_split=None,\n",
              "                       min_samples_leaf=1, min_samples_split=2,\n",
              "                       min_weight_fraction_leaf=0.0, n_estimators=100,\n",
              "                       n_jobs=None, oob_score=False, random_state=7, verbose=0,\n",
              "                       warm_start=False)"
            ]
          },
          "metadata": {
            "tags": []
          },
          "execution_count": 189
        }
      ]
    },
    {
      "cell_type": "code",
      "metadata": {
        "id": "OU4NQo2d7mB9",
        "colab_type": "code",
        "colab": {
          "base_uri": "https://localhost:8080/",
          "height": 34
        },
        "outputId": "db294f1c-7fcd-4659-b83e-e6fe374f00b8"
      },
      "source": [
        "rf.classes_"
      ],
      "execution_count": 198,
      "outputs": [
        {
          "output_type": "execute_result",
          "data": {
            "text/plain": [
              "array(['C', 'D', 'LW', 'RW'], dtype=object)"
            ]
          },
          "metadata": {
            "tags": []
          },
          "execution_count": 198
        }
      ]
    },
    {
      "cell_type": "code",
      "metadata": {
        "id": "TOWvwNNx8zUY",
        "colab_type": "code",
        "colab": {}
      },
      "source": [
        "from sklearn.model_selection import cross_val_predict\n",
        "\n",
        "train_pred = cross_val_predict(rf, train_skater_stats0818, train_labels, cv=3)"
      ],
      "execution_count": 0,
      "outputs": []
    },
    {
      "cell_type": "code",
      "metadata": {
        "id": "TNbWxOGm_qCJ",
        "colab_type": "code",
        "colab": {
          "base_uri": "https://localhost:8080/",
          "height": 85
        },
        "outputId": "67d908da-ac97-4ab8-b36a-df8028c135df"
      },
      "source": [
        "from sklearn.metrics import confusion_matrix\n",
        "\n",
        "conf_mx = confusion_matrix(train_labels, train_pred)\n",
        "conf_mx"
      ],
      "execution_count": 199,
      "outputs": [
        {
          "output_type": "execute_result",
          "data": {
            "text/plain": [
              "array([[1726,   29,  182,  152],\n",
              "       [   1, 2409,   60,   16],\n",
              "       [ 255,   92,  588,  437],\n",
              "       [ 230,   69,  518,  490]])"
            ]
          },
          "metadata": {
            "tags": []
          },
          "execution_count": 199
        }
      ]
    },
    {
      "cell_type": "code",
      "metadata": {
        "id": "89h9DrC0A3Bu",
        "colab_type": "code",
        "colab": {}
      },
      "source": [
        "from sklearn.model_selection import cross_val_score\n",
        "\n",
        "scores = cross_val_score(rf, train_skater_stats0818, train_labels,\n",
        "                         scoring=\"accuracy\", cv=10)"
      ],
      "execution_count": 0,
      "outputs": []
    },
    {
      "cell_type": "code",
      "metadata": {
        "id": "leZfhZeIBiDj",
        "colab_type": "code",
        "colab": {
          "base_uri": "https://localhost:8080/",
          "height": 51
        },
        "outputId": "28a631db-cf28-435a-b159-55c1eaf19b82"
      },
      "source": [
        "scores"
      ],
      "execution_count": 203,
      "outputs": [
        {
          "output_type": "execute_result",
          "data": {
            "text/plain": [
              "array([0.7231405 , 0.71900826, 0.71349862, 0.72727273, 0.69931034,\n",
              "       0.72137931, 0.71448276, 0.7337931 , 0.72      , 0.72551724])"
            ]
          },
          "metadata": {
            "tags": []
          },
          "execution_count": 203
        }
      ]
    },
    {
      "cell_type": "code",
      "metadata": {
        "id": "ZM19QibxBkCi",
        "colab_type": "code",
        "colab": {
          "base_uri": "https://localhost:8080/",
          "height": 34
        },
        "outputId": "6dd2559c-d8e2-4a00-f28d-628761d425bc"
      },
      "source": [
        "# Test accuracy\n",
        "\n",
        "from sklearn.metrics import accuracy_score\n",
        "\n",
        "test_preds = rf.predict(test_skater_stats0818)\n",
        "accuracy_score(test_labels, test_pred)"
      ],
      "execution_count": 204,
      "outputs": [
        {
          "output_type": "execute_result",
          "data": {
            "text/plain": [
              "0.729226953286482"
            ]
          },
          "metadata": {
            "tags": []
          },
          "execution_count": 204
        }
      ]
    },
    {
      "cell_type": "code",
      "metadata": {
        "id": "rr4tFQFSCz52",
        "colab_type": "code",
        "colab": {
          "base_uri": "https://localhost:8080/",
          "height": 85
        },
        "outputId": "744292a3-d900-4cb0-8f84-3c5571192a9b"
      },
      "source": [
        "test_conf_mx = confusion_matrix(test_labels, test_pred)\n",
        "test_conf_mx"
      ],
      "execution_count": 205,
      "outputs": [
        {
          "output_type": "execute_result",
          "data": {
            "text/plain": [
              "array([[581,  16,  53,  47],\n",
              "       [  0, 808,  19,   2],\n",
              "       [ 82,  27, 205, 144],\n",
              "       [ 76,  32, 157, 170]])"
            ]
          },
          "metadata": {
            "tags": []
          },
          "execution_count": 205
        }
      ]
    },
    {
      "cell_type": "code",
      "metadata": {
        "id": "9iw73LPgC61s",
        "colab_type": "code",
        "colab": {}
      },
      "source": [
        ""
      ],
      "execution_count": 0,
      "outputs": []
    }
  ]
}